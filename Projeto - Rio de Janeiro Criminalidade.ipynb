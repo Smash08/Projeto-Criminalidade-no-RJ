{
 "cells": [
  {
   "cell_type": "markdown",
   "id": "79495403",
   "metadata": {},
   "source": [
    "# Analisando a Violência no Rio de Janeiro"
   ]
  },
  {
   "cell_type": "markdown",
   "id": "e80c1a06",
   "metadata": {},
   "source": [
    "O Rio de Janeiro, conhecida como a cidade maravilhosa, é um dos maiores centros turísticos do País, entretanto, na prática, o Estado vem tendo altos índices de violência e tráfico.\n",
    "\n",
    "Segundo relatório de dados obtidos de estatística internacional a Unifesp concluiu que o Brasil só perdia em consumo de Cocaína para os Estados Unidos tem 4,8 taxa de mortes para cada grupo de 100 mil habitantes, enquanto que o Brasil tem 31.1 pessoas a cada 100 mil habitantes, uma diferença enorme.\n",
    "\n",
    "E como se sabe, quase todas as metropoles do mundo possuem comércio ilegal de drogas, entretanto o Rio é uma das cidades que frequentemente se presencia cenas de Guerras nas ruas, conflitos oriundos de facções armadas - lutas pelo controle de territórios, tais problemas cresceram e se intensificaram com o passar do tempo devido a corrupção e o descaso dos governantes para com as favelas cariocas - atualmente, reféns dessas faccções.\n",
    "\n",
    "Sabe-se também que o Rio de Janeiro não consegue mais prover segurança para a sua população de forma eficiente, o que é prejudicial para o turismo, além de proporcionar um medo para toda a sua sociedade, dito isso, passaremos a investigar alguns dados.\n"
   ]
  },
  {
   "cell_type": "markdown",
   "id": "0858d9c9",
   "metadata": {},
   "source": [
    " # OBTENÇÃO DOS DADOS"
   ]
  },
  {
   "cell_type": "markdown",
   "id": "e81871c2",
   "metadata": {},
   "source": [
    "Os dados foram obtidos diretamento do portal ISPDados, que é uma página de Dados Abertos do Instituto de Segurança Pública do Rio de Janeiro. (https://raw.githubusercontent.com/carlosfab/dsnp2/master/datasets/violencia_rio.csv).\n",
    "\n",
    "As estatisfica que foram divulgadas são oriundas de Registros de Ocorrência lavrados pela Policia Civil do Estado do Rio de Janeiro, sendo complementada com outros órgãos especificos da Policia Militar do Rio de Janeiro.\n",
    "\n"
   ]
  },
  {
   "cell_type": "markdown",
   "id": "82251733",
   "metadata": {},
   "source": [
    "# Importando os Dados"
   ]
  },
  {
   "cell_type": "code",
   "execution_count": 2,
   "id": "8b76481e",
   "metadata": {},
   "outputs": [],
   "source": [
    "import pandas as pd\n",
    "import numpy as np"
   ]
  },
  {
   "cell_type": "code",
   "execution_count": 3,
   "id": "9c566a0d",
   "metadata": {},
   "outputs": [],
   "source": [
    "dataset = pd.read_csv('https://raw.githubusercontent.com/carlosfab/dsnp2/master/datasets/violencia_rio.csv')"
   ]
  },
  {
   "cell_type": "markdown",
   "id": "547342c4",
   "metadata": {},
   "source": [
    "# Análise Inicial dos Dados"
   ]
  },
  {
   "cell_type": "markdown",
   "id": "efe6eb48",
   "metadata": {},
   "source": [
    "Neste momento iremos percorrer um pouco os dados, descobrindo as 5 primeiras linhas, em seguida, iremos analisar o tamanho do dataset e os tipos contidos nas colunas.\n",
    "\n",
    "Visto isto, verificaremos o nome das colunas, bem como a porcentagem de valores ausentes em cada coluna.\n",
    "\n",
    "A seguir, você notara que há uma grande quantidade de valores ausentes em alguns delitos que prejudicam a visualização dos dados, duas colunas com grande quantidade: Roubo de Bicicleta e Furto de Bicicleta - Valores consideraveis por sinais."
   ]
  },
  {
   "cell_type": "code",
   "execution_count": 4,
   "id": "1da0ec28",
   "metadata": {},
   "outputs": [
    {
     "data": {
      "text/html": [
       "<div>\n",
       "<style scoped>\n",
       "    .dataframe tbody tr th:only-of-type {\n",
       "        vertical-align: middle;\n",
       "    }\n",
       "\n",
       "    .dataframe tbody tr th {\n",
       "        vertical-align: top;\n",
       "    }\n",
       "\n",
       "    .dataframe thead th {\n",
       "        text-align: right;\n",
       "    }\n",
       "</style>\n",
       "<table border=\"1\" class=\"dataframe\">\n",
       "  <thead>\n",
       "    <tr style=\"text-align: right;\">\n",
       "      <th></th>\n",
       "      <th>vano</th>\n",
       "      <th>mes</th>\n",
       "      <th>hom_doloso</th>\n",
       "      <th>lesao_corp_morte</th>\n",
       "      <th>latrocinio</th>\n",
       "      <th>hom_por_interv_policial</th>\n",
       "      <th>tentat_hom</th>\n",
       "      <th>lesao_corp_dolosa</th>\n",
       "      <th>estupro</th>\n",
       "      <th>hom_culposo</th>\n",
       "      <th>...</th>\n",
       "      <th>pessoas_desaparecidas</th>\n",
       "      <th>encontro_cadaver</th>\n",
       "      <th>encontro_ossada</th>\n",
       "      <th>pol_militares_mortos_serv</th>\n",
       "      <th>pol_civis_mortos_serv</th>\n",
       "      <th>indicador_letalidade</th>\n",
       "      <th>indicador_roubo_rua</th>\n",
       "      <th>indicador_roubo_veic</th>\n",
       "      <th>registro_ocorrencias</th>\n",
       "      <th>fase</th>\n",
       "    </tr>\n",
       "  </thead>\n",
       "  <tbody>\n",
       "    <tr>\n",
       "      <th>0</th>\n",
       "      <td>1991</td>\n",
       "      <td>1</td>\n",
       "      <td>657</td>\n",
       "      <td>NaN</td>\n",
       "      <td>15</td>\n",
       "      <td>NaN</td>\n",
       "      <td>162</td>\n",
       "      <td>3051</td>\n",
       "      <td>NaN</td>\n",
       "      <td>NaN</td>\n",
       "      <td>...</td>\n",
       "      <td>NaN</td>\n",
       "      <td>217</td>\n",
       "      <td>NaN</td>\n",
       "      <td>NaN</td>\n",
       "      <td>NaN</td>\n",
       "      <td>672</td>\n",
       "      <td>1348</td>\n",
       "      <td>1174</td>\n",
       "      <td>NaN</td>\n",
       "      <td>3</td>\n",
       "    </tr>\n",
       "    <tr>\n",
       "      <th>1</th>\n",
       "      <td>1991</td>\n",
       "      <td>2</td>\n",
       "      <td>732</td>\n",
       "      <td>NaN</td>\n",
       "      <td>17</td>\n",
       "      <td>NaN</td>\n",
       "      <td>175</td>\n",
       "      <td>3421</td>\n",
       "      <td>NaN</td>\n",
       "      <td>NaN</td>\n",
       "      <td>...</td>\n",
       "      <td>NaN</td>\n",
       "      <td>209</td>\n",
       "      <td>NaN</td>\n",
       "      <td>NaN</td>\n",
       "      <td>NaN</td>\n",
       "      <td>749</td>\n",
       "      <td>1395</td>\n",
       "      <td>1097</td>\n",
       "      <td>NaN</td>\n",
       "      <td>3</td>\n",
       "    </tr>\n",
       "    <tr>\n",
       "      <th>2</th>\n",
       "      <td>1991</td>\n",
       "      <td>3</td>\n",
       "      <td>713</td>\n",
       "      <td>NaN</td>\n",
       "      <td>25</td>\n",
       "      <td>NaN</td>\n",
       "      <td>216</td>\n",
       "      <td>3613</td>\n",
       "      <td>NaN</td>\n",
       "      <td>NaN</td>\n",
       "      <td>...</td>\n",
       "      <td>NaN</td>\n",
       "      <td>188</td>\n",
       "      <td>NaN</td>\n",
       "      <td>NaN</td>\n",
       "      <td>NaN</td>\n",
       "      <td>738</td>\n",
       "      <td>1385</td>\n",
       "      <td>1265</td>\n",
       "      <td>NaN</td>\n",
       "      <td>3</td>\n",
       "    </tr>\n",
       "    <tr>\n",
       "      <th>3</th>\n",
       "      <td>1991</td>\n",
       "      <td>4</td>\n",
       "      <td>634</td>\n",
       "      <td>NaN</td>\n",
       "      <td>20</td>\n",
       "      <td>NaN</td>\n",
       "      <td>200</td>\n",
       "      <td>3211</td>\n",
       "      <td>NaN</td>\n",
       "      <td>NaN</td>\n",
       "      <td>...</td>\n",
       "      <td>NaN</td>\n",
       "      <td>140</td>\n",
       "      <td>NaN</td>\n",
       "      <td>NaN</td>\n",
       "      <td>NaN</td>\n",
       "      <td>654</td>\n",
       "      <td>1540</td>\n",
       "      <td>1415</td>\n",
       "      <td>NaN</td>\n",
       "      <td>3</td>\n",
       "    </tr>\n",
       "    <tr>\n",
       "      <th>4</th>\n",
       "      <td>1991</td>\n",
       "      <td>5</td>\n",
       "      <td>650</td>\n",
       "      <td>NaN</td>\n",
       "      <td>20</td>\n",
       "      <td>NaN</td>\n",
       "      <td>146</td>\n",
       "      <td>3051</td>\n",
       "      <td>NaN</td>\n",
       "      <td>NaN</td>\n",
       "      <td>...</td>\n",
       "      <td>NaN</td>\n",
       "      <td>78</td>\n",
       "      <td>NaN</td>\n",
       "      <td>NaN</td>\n",
       "      <td>NaN</td>\n",
       "      <td>670</td>\n",
       "      <td>1266</td>\n",
       "      <td>1449</td>\n",
       "      <td>NaN</td>\n",
       "      <td>3</td>\n",
       "    </tr>\n",
       "  </tbody>\n",
       "</table>\n",
       "<p>5 rows × 56 columns</p>\n",
       "</div>"
      ],
      "text/plain": [
       "   vano  mes  hom_doloso  lesao_corp_morte  latrocinio  \\\n",
       "0  1991    1         657               NaN          15   \n",
       "1  1991    2         732               NaN          17   \n",
       "2  1991    3         713               NaN          25   \n",
       "3  1991    4         634               NaN          20   \n",
       "4  1991    5         650               NaN          20   \n",
       "\n",
       "   hom_por_interv_policial  tentat_hom  lesao_corp_dolosa  estupro  \\\n",
       "0                      NaN         162               3051      NaN   \n",
       "1                      NaN         175               3421      NaN   \n",
       "2                      NaN         216               3613      NaN   \n",
       "3                      NaN         200               3211      NaN   \n",
       "4                      NaN         146               3051      NaN   \n",
       "\n",
       "   hom_culposo  ...  pessoas_desaparecidas  encontro_cadaver  encontro_ossada  \\\n",
       "0          NaN  ...                    NaN               217              NaN   \n",
       "1          NaN  ...                    NaN               209              NaN   \n",
       "2          NaN  ...                    NaN               188              NaN   \n",
       "3          NaN  ...                    NaN               140              NaN   \n",
       "4          NaN  ...                    NaN                78              NaN   \n",
       "\n",
       "   pol_militares_mortos_serv  pol_civis_mortos_serv  indicador_letalidade  \\\n",
       "0                        NaN                    NaN                   672   \n",
       "1                        NaN                    NaN                   749   \n",
       "2                        NaN                    NaN                   738   \n",
       "3                        NaN                    NaN                   654   \n",
       "4                        NaN                    NaN                   670   \n",
       "\n",
       "   indicador_roubo_rua  indicador_roubo_veic  registro_ocorrencias  fase  \n",
       "0                 1348                  1174                   NaN     3  \n",
       "1                 1395                  1097                   NaN     3  \n",
       "2                 1385                  1265                   NaN     3  \n",
       "3                 1540                  1415                   NaN     3  \n",
       "4                 1266                  1449                   NaN     3  \n",
       "\n",
       "[5 rows x 56 columns]"
      ]
     },
     "execution_count": 4,
     "metadata": {},
     "output_type": "execute_result"
    }
   ],
   "source": [
    "dataset.head()"
   ]
  },
  {
   "cell_type": "code",
   "execution_count": 5,
   "id": "35a32acf",
   "metadata": {},
   "outputs": [
    {
     "data": {
      "text/plain": [
       "(344, 56)"
      ]
     },
     "execution_count": 5,
     "metadata": {},
     "output_type": "execute_result"
    }
   ],
   "source": [
    "dataset.shape"
   ]
  },
  {
   "cell_type": "code",
   "execution_count": 6,
   "id": "13cbaa83",
   "metadata": {},
   "outputs": [
    {
     "data": {
      "text/plain": [
       "vano                            int64\n",
       "mes                             int64\n",
       "hom_doloso                      int64\n",
       "lesao_corp_morte              float64\n",
       "latrocinio                      int64\n",
       "hom_por_interv_policial       float64\n",
       "tentat_hom                      int64\n",
       "lesao_corp_dolosa               int64\n",
       "estupro                       float64\n",
       "hom_culposo                   float64\n",
       "lesao_corp_culposa            float64\n",
       "roubo_comercio                  int64\n",
       "roubo_residencia                int64\n",
       "roubo_veiculo                   int64\n",
       "roubo_carga                     int64\n",
       "roubo_transeunte                int64\n",
       "roubo_em_coletivo               int64\n",
       "roubo_banco                     int64\n",
       "roubo_cx_eletronico           float64\n",
       "roubo_celular                 float64\n",
       "roubo_conducao_saque          float64\n",
       "roubo_apos_saque              float64\n",
       "roubo_bicicleta               float64\n",
       "outros_roubos                   int64\n",
       "total_roubos                    int64\n",
       "furto_veiculos                  int64\n",
       "furto_transeunte                int64\n",
       "furto_coletivo                float64\n",
       "furto_celular                 float64\n",
       "furto_bicicleta               float64\n",
       "outros_furtos                   int64\n",
       "total_furtos                    int64\n",
       "sequestro                     float64\n",
       "extorsao                      float64\n",
       "sequestro_relampago           float64\n",
       "estelionato                   float64\n",
       "apreensao_drogas                int64\n",
       "posse_drogas                  float64\n",
       "trafico_drogas                float64\n",
       "apreensao_drogas_sem_autor    float64\n",
       "recuperacao_veiculos            int64\n",
       "apf                           float64\n",
       "aaapai                        float64\n",
       "cmp                           float64\n",
       "cmba                          float64\n",
       "ameaca                        float64\n",
       "pessoas_desaparecidas         float64\n",
       "encontro_cadaver                int64\n",
       "encontro_ossada               float64\n",
       "pol_militares_mortos_serv     float64\n",
       "pol_civis_mortos_serv         float64\n",
       "indicador_letalidade            int64\n",
       "indicador_roubo_rua             int64\n",
       "indicador_roubo_veic            int64\n",
       "registro_ocorrencias          float64\n",
       "fase                            int64\n",
       "dtype: object"
      ]
     },
     "execution_count": 6,
     "metadata": {},
     "output_type": "execute_result"
    }
   ],
   "source": [
    "dataset.dtypes"
   ]
  },
  {
   "cell_type": "code",
   "execution_count": 7,
   "id": "33b37c08",
   "metadata": {},
   "outputs": [
    {
     "data": {
      "text/plain": [
       "Index(['vano', 'mes', 'hom_doloso', 'lesao_corp_morte', 'latrocinio',\n",
       "       'hom_por_interv_policial', 'tentat_hom', 'lesao_corp_dolosa', 'estupro',\n",
       "       'hom_culposo', 'lesao_corp_culposa', 'roubo_comercio',\n",
       "       'roubo_residencia', 'roubo_veiculo', 'roubo_carga', 'roubo_transeunte',\n",
       "       'roubo_em_coletivo', 'roubo_banco', 'roubo_cx_eletronico',\n",
       "       'roubo_celular', 'roubo_conducao_saque', 'roubo_apos_saque',\n",
       "       'roubo_bicicleta', 'outros_roubos', 'total_roubos', 'furto_veiculos',\n",
       "       'furto_transeunte', 'furto_coletivo', 'furto_celular',\n",
       "       'furto_bicicleta', 'outros_furtos', 'total_furtos', 'sequestro',\n",
       "       'extorsao', 'sequestro_relampago', 'estelionato', 'apreensao_drogas',\n",
       "       'posse_drogas', 'trafico_drogas', 'apreensao_drogas_sem_autor',\n",
       "       'recuperacao_veiculos', 'apf', 'aaapai', 'cmp', 'cmba', 'ameaca',\n",
       "       'pessoas_desaparecidas', 'encontro_cadaver', 'encontro_ossada',\n",
       "       'pol_militares_mortos_serv', 'pol_civis_mortos_serv',\n",
       "       'indicador_letalidade', 'indicador_roubo_rua', 'indicador_roubo_veic',\n",
       "       'registro_ocorrencias', 'fase'],\n",
       "      dtype='object')"
      ]
     },
     "execution_count": 7,
     "metadata": {},
     "output_type": "execute_result"
    }
   ],
   "source": [
    "dataset.columns"
   ]
  },
  {
   "cell_type": "code",
   "execution_count": 8,
   "id": "9aa2ae30",
   "metadata": {},
   "outputs": [
    {
     "data": {
      "text/plain": [
       "vano                          0.000000\n",
       "mes                           0.000000\n",
       "hom_doloso                    0.000000\n",
       "lesao_corp_morte              0.279070\n",
       "latrocinio                    0.000000\n",
       "hom_por_interv_policial       0.244186\n",
       "tentat_hom                    0.000000\n",
       "lesao_corp_dolosa             0.000000\n",
       "estupro                       0.418605\n",
       "hom_culposo                   0.244186\n",
       "lesao_corp_culposa            0.279070\n",
       "roubo_comercio                0.000000\n",
       "roubo_residencia              0.000000\n",
       "roubo_veiculo                 0.000000\n",
       "roubo_carga                   0.000000\n",
       "roubo_transeunte              0.000000\n",
       "roubo_em_coletivo             0.000000\n",
       "roubo_banco                   0.000000\n",
       "roubo_cx_eletronico           0.418605\n",
       "roubo_celular                 0.313953\n",
       "roubo_conducao_saque          0.418605\n",
       "roubo_apos_saque              0.418605\n",
       "roubo_bicicleta               0.802326\n",
       "outros_roubos                 0.000000\n",
       "total_roubos                  0.000000\n",
       "furto_veiculos                0.000000\n",
       "furto_transeunte              0.000000\n",
       "furto_coletivo                0.418605\n",
       "furto_celular                 0.418605\n",
       "furto_bicicleta               0.802326\n",
       "outros_furtos                 0.000000\n",
       "total_furtos                  0.000000\n",
       "sequestro                     0.279070\n",
       "extorsao                      0.418605\n",
       "sequestro_relampago           0.418605\n",
       "estelionato                   0.418605\n",
       "apreensao_drogas              0.000000\n",
       "posse_drogas                  0.523256\n",
       "trafico_drogas                0.523256\n",
       "apreensao_drogas_sem_autor    0.523256\n",
       "recuperacao_veiculos          0.000000\n",
       "apf                           0.523256\n",
       "aaapai                        0.523256\n",
       "cmp                           0.523256\n",
       "cmba                          0.523256\n",
       "ameaca                        0.279070\n",
       "pessoas_desaparecidas         0.383721\n",
       "encontro_cadaver              0.000000\n",
       "encontro_ossada               0.383721\n",
       "pol_militares_mortos_serv     0.418605\n",
       "pol_civis_mortos_serv         0.418605\n",
       "indicador_letalidade          0.000000\n",
       "indicador_roubo_rua           0.000000\n",
       "indicador_roubo_veic          0.000000\n",
       "registro_ocorrencias          0.279070\n",
       "fase                          0.000000\n",
       "dtype: float64"
      ]
     },
     "execution_count": 8,
     "metadata": {},
     "output_type": "execute_result"
    }
   ],
   "source": [
    "dataset.isnull().sum()/dataset.shape[0]"
   ]
  },
  {
   "cell_type": "markdown",
   "id": "0cb47ca1",
   "metadata": {},
   "source": [
    "# Informações Estatísticas da Violência no Rio de Janeiro"
   ]
  },
  {
   "cell_type": "markdown",
   "id": "23cf4e36",
   "metadata": {},
   "source": [
    "Neste momento, iremos investigar as colunas relacionadas ao roubo de veículo, furto e recuperação e fazer um comparativo das médias.\n",
    "\n",
    "Aqui usaremos o describe para obter as médias dos valores, assim, as colunas \"vano\" e \"mes\" devem ser desconsideradas"
   ]
  },
  {
   "cell_type": "code",
   "execution_count": 9,
   "id": "3ca4ca21",
   "metadata": {},
   "outputs": [
    {
     "data": {
      "text/html": [
       "<div>\n",
       "<style scoped>\n",
       "    .dataframe tbody tr th:only-of-type {\n",
       "        vertical-align: middle;\n",
       "    }\n",
       "\n",
       "    .dataframe tbody tr th {\n",
       "        vertical-align: top;\n",
       "    }\n",
       "\n",
       "    .dataframe thead th {\n",
       "        text-align: right;\n",
       "    }\n",
       "</style>\n",
       "<table border=\"1\" class=\"dataframe\">\n",
       "  <thead>\n",
       "    <tr style=\"text-align: right;\">\n",
       "      <th></th>\n",
       "      <th>vano</th>\n",
       "      <th>mes</th>\n",
       "      <th>hom_doloso</th>\n",
       "      <th>lesao_corp_morte</th>\n",
       "      <th>latrocinio</th>\n",
       "      <th>hom_por_interv_policial</th>\n",
       "      <th>tentat_hom</th>\n",
       "      <th>lesao_corp_dolosa</th>\n",
       "      <th>estupro</th>\n",
       "      <th>hom_culposo</th>\n",
       "      <th>...</th>\n",
       "      <th>pessoas_desaparecidas</th>\n",
       "      <th>encontro_cadaver</th>\n",
       "      <th>encontro_ossada</th>\n",
       "      <th>pol_militares_mortos_serv</th>\n",
       "      <th>pol_civis_mortos_serv</th>\n",
       "      <th>indicador_letalidade</th>\n",
       "      <th>indicador_roubo_rua</th>\n",
       "      <th>indicador_roubo_veic</th>\n",
       "      <th>registro_ocorrencias</th>\n",
       "      <th>fase</th>\n",
       "    </tr>\n",
       "  </thead>\n",
       "  <tbody>\n",
       "    <tr>\n",
       "      <th>count</th>\n",
       "      <td>344.000000</td>\n",
       "      <td>344.000000</td>\n",
       "      <td>344.000000</td>\n",
       "      <td>248.000000</td>\n",
       "      <td>344.000000</td>\n",
       "      <td>260.00000</td>\n",
       "      <td>344.000000</td>\n",
       "      <td>344.000000</td>\n",
       "      <td>200.000000</td>\n",
       "      <td>260.000000</td>\n",
       "      <td>...</td>\n",
       "      <td>212.000000</td>\n",
       "      <td>344.000000</td>\n",
       "      <td>212.000000</td>\n",
       "      <td>200.000000</td>\n",
       "      <td>200.00000</td>\n",
       "      <td>344.000000</td>\n",
       "      <td>344.000000</td>\n",
       "      <td>344.000000</td>\n",
       "      <td>248.000000</td>\n",
       "      <td>344.000000</td>\n",
       "    </tr>\n",
       "    <tr>\n",
       "      <th>mean</th>\n",
       "      <td>2004.837209</td>\n",
       "      <td>6.453488</td>\n",
       "      <td>504.555233</td>\n",
       "      <td>4.334677</td>\n",
       "      <td>15.668605</td>\n",
       "      <td>71.90000</td>\n",
       "      <td>318.267442</td>\n",
       "      <td>5492.799419</td>\n",
       "      <td>369.945000</td>\n",
       "      <td>212.119231</td>\n",
       "      <td>...</td>\n",
       "      <td>435.132075</td>\n",
       "      <td>66.261628</td>\n",
       "      <td>3.301887</td>\n",
       "      <td>2.085000</td>\n",
       "      <td>0.34000</td>\n",
       "      <td>577.691860</td>\n",
       "      <td>4734.738372</td>\n",
       "      <td>2448.697674</td>\n",
       "      <td>53794.161290</td>\n",
       "      <td>2.994186</td>\n",
       "    </tr>\n",
       "    <tr>\n",
       "      <th>std</th>\n",
       "      <td>8.289036</td>\n",
       "      <td>3.447759</td>\n",
       "      <td>113.774481</td>\n",
       "      <td>2.755357</td>\n",
       "      <td>5.861427</td>\n",
       "      <td>36.48882</td>\n",
       "      <td>127.606645</td>\n",
       "      <td>1514.220579</td>\n",
       "      <td>94.392434</td>\n",
       "      <td>54.234700</td>\n",
       "      <td>...</td>\n",
       "      <td>65.353516</td>\n",
       "      <td>34.464519</td>\n",
       "      <td>2.192922</td>\n",
       "      <td>1.761616</td>\n",
       "      <td>0.63752</td>\n",
       "      <td>104.973929</td>\n",
       "      <td>3204.054864</td>\n",
       "      <td>789.689559</td>\n",
       "      <td>11039.051992</td>\n",
       "      <td>0.076138</td>\n",
       "    </tr>\n",
       "    <tr>\n",
       "      <th>min</th>\n",
       "      <td>1991.000000</td>\n",
       "      <td>1.000000</td>\n",
       "      <td>272.000000</td>\n",
       "      <td>0.000000</td>\n",
       "      <td>2.000000</td>\n",
       "      <td>10.00000</td>\n",
       "      <td>122.000000</td>\n",
       "      <td>2350.000000</td>\n",
       "      <td>188.000000</td>\n",
       "      <td>111.000000</td>\n",
       "      <td>...</td>\n",
       "      <td>236.000000</td>\n",
       "      <td>0.000000</td>\n",
       "      <td>0.000000</td>\n",
       "      <td>0.000000</td>\n",
       "      <td>0.00000</td>\n",
       "      <td>334.000000</td>\n",
       "      <td>1086.000000</td>\n",
       "      <td>1097.000000</td>\n",
       "      <td>30621.000000</td>\n",
       "      <td>2.000000</td>\n",
       "    </tr>\n",
       "    <tr>\n",
       "      <th>25%</th>\n",
       "      <td>1998.000000</td>\n",
       "      <td>3.000000</td>\n",
       "      <td>413.750000</td>\n",
       "      <td>2.000000</td>\n",
       "      <td>11.000000</td>\n",
       "      <td>41.75000</td>\n",
       "      <td>200.000000</td>\n",
       "      <td>4067.000000</td>\n",
       "      <td>282.000000</td>\n",
       "      <td>176.000000</td>\n",
       "      <td>...</td>\n",
       "      <td>390.000000</td>\n",
       "      <td>42.000000</td>\n",
       "      <td>2.000000</td>\n",
       "      <td>1.000000</td>\n",
       "      <td>0.00000</td>\n",
       "      <td>500.000000</td>\n",
       "      <td>1557.000000</td>\n",
       "      <td>1889.750000</td>\n",
       "      <td>45374.500000</td>\n",
       "      <td>3.000000</td>\n",
       "    </tr>\n",
       "    <tr>\n",
       "      <th>50%</th>\n",
       "      <td>2005.000000</td>\n",
       "      <td>6.000000</td>\n",
       "      <td>507.000000</td>\n",
       "      <td>4.000000</td>\n",
       "      <td>15.000000</td>\n",
       "      <td>70.00000</td>\n",
       "      <td>318.500000</td>\n",
       "      <td>5830.500000</td>\n",
       "      <td>384.000000</td>\n",
       "      <td>203.000000</td>\n",
       "      <td>...</td>\n",
       "      <td>427.000000</td>\n",
       "      <td>60.500000</td>\n",
       "      <td>3.000000</td>\n",
       "      <td>2.000000</td>\n",
       "      <td>0.00000</td>\n",
       "      <td>590.000000</td>\n",
       "      <td>4190.000000</td>\n",
       "      <td>2322.000000</td>\n",
       "      <td>54926.500000</td>\n",
       "      <td>3.000000</td>\n",
       "    </tr>\n",
       "    <tr>\n",
       "      <th>75%</th>\n",
       "      <td>2012.000000</td>\n",
       "      <td>9.000000</td>\n",
       "      <td>577.250000</td>\n",
       "      <td>6.000000</td>\n",
       "      <td>19.000000</td>\n",
       "      <td>96.25000</td>\n",
       "      <td>398.250000</td>\n",
       "      <td>6582.500000</td>\n",
       "      <td>441.250000</td>\n",
       "      <td>236.250000</td>\n",
       "      <td>...</td>\n",
       "      <td>481.500000</td>\n",
       "      <td>87.000000</td>\n",
       "      <td>4.000000</td>\n",
       "      <td>3.000000</td>\n",
       "      <td>1.00000</td>\n",
       "      <td>649.000000</td>\n",
       "      <td>6872.750000</td>\n",
       "      <td>2778.000000</td>\n",
       "      <td>63292.500000</td>\n",
       "      <td>3.000000</td>\n",
       "    </tr>\n",
       "    <tr>\n",
       "      <th>max</th>\n",
       "      <td>2019.000000</td>\n",
       "      <td>12.000000</td>\n",
       "      <td>831.000000</td>\n",
       "      <td>21.000000</td>\n",
       "      <td>36.000000</td>\n",
       "      <td>194.00000</td>\n",
       "      <td>645.000000</td>\n",
       "      <td>9050.000000</td>\n",
       "      <td>561.000000</td>\n",
       "      <td>449.000000</td>\n",
       "      <td>...</td>\n",
       "      <td>628.000000</td>\n",
       "      <td>217.000000</td>\n",
       "      <td>13.000000</td>\n",
       "      <td>10.000000</td>\n",
       "      <td>3.00000</td>\n",
       "      <td>848.000000</td>\n",
       "      <td>13833.000000</td>\n",
       "      <td>5358.000000</td>\n",
       "      <td>75403.000000</td>\n",
       "      <td>3.000000</td>\n",
       "    </tr>\n",
       "  </tbody>\n",
       "</table>\n",
       "<p>8 rows × 56 columns</p>\n",
       "</div>"
      ],
      "text/plain": [
       "              vano         mes  hom_doloso  lesao_corp_morte  latrocinio  \\\n",
       "count   344.000000  344.000000  344.000000        248.000000  344.000000   \n",
       "mean   2004.837209    6.453488  504.555233          4.334677   15.668605   \n",
       "std       8.289036    3.447759  113.774481          2.755357    5.861427   \n",
       "min    1991.000000    1.000000  272.000000          0.000000    2.000000   \n",
       "25%    1998.000000    3.000000  413.750000          2.000000   11.000000   \n",
       "50%    2005.000000    6.000000  507.000000          4.000000   15.000000   \n",
       "75%    2012.000000    9.000000  577.250000          6.000000   19.000000   \n",
       "max    2019.000000   12.000000  831.000000         21.000000   36.000000   \n",
       "\n",
       "       hom_por_interv_policial  tentat_hom  lesao_corp_dolosa     estupro  \\\n",
       "count                260.00000  344.000000         344.000000  200.000000   \n",
       "mean                  71.90000  318.267442        5492.799419  369.945000   \n",
       "std                   36.48882  127.606645        1514.220579   94.392434   \n",
       "min                   10.00000  122.000000        2350.000000  188.000000   \n",
       "25%                   41.75000  200.000000        4067.000000  282.000000   \n",
       "50%                   70.00000  318.500000        5830.500000  384.000000   \n",
       "75%                   96.25000  398.250000        6582.500000  441.250000   \n",
       "max                  194.00000  645.000000        9050.000000  561.000000   \n",
       "\n",
       "       hom_culposo  ...  pessoas_desaparecidas  encontro_cadaver  \\\n",
       "count   260.000000  ...             212.000000        344.000000   \n",
       "mean    212.119231  ...             435.132075         66.261628   \n",
       "std      54.234700  ...              65.353516         34.464519   \n",
       "min     111.000000  ...             236.000000          0.000000   \n",
       "25%     176.000000  ...             390.000000         42.000000   \n",
       "50%     203.000000  ...             427.000000         60.500000   \n",
       "75%     236.250000  ...             481.500000         87.000000   \n",
       "max     449.000000  ...             628.000000        217.000000   \n",
       "\n",
       "       encontro_ossada  pol_militares_mortos_serv  pol_civis_mortos_serv  \\\n",
       "count       212.000000                 200.000000              200.00000   \n",
       "mean          3.301887                   2.085000                0.34000   \n",
       "std           2.192922                   1.761616                0.63752   \n",
       "min           0.000000                   0.000000                0.00000   \n",
       "25%           2.000000                   1.000000                0.00000   \n",
       "50%           3.000000                   2.000000                0.00000   \n",
       "75%           4.000000                   3.000000                1.00000   \n",
       "max          13.000000                  10.000000                3.00000   \n",
       "\n",
       "       indicador_letalidade  indicador_roubo_rua  indicador_roubo_veic  \\\n",
       "count            344.000000           344.000000            344.000000   \n",
       "mean             577.691860          4734.738372           2448.697674   \n",
       "std              104.973929          3204.054864            789.689559   \n",
       "min              334.000000          1086.000000           1097.000000   \n",
       "25%              500.000000          1557.000000           1889.750000   \n",
       "50%              590.000000          4190.000000           2322.000000   \n",
       "75%              649.000000          6872.750000           2778.000000   \n",
       "max              848.000000         13833.000000           5358.000000   \n",
       "\n",
       "       registro_ocorrencias        fase  \n",
       "count            248.000000  344.000000  \n",
       "mean           53794.161290    2.994186  \n",
       "std            11039.051992    0.076138  \n",
       "min            30621.000000    2.000000  \n",
       "25%            45374.500000    3.000000  \n",
       "50%            54926.500000    3.000000  \n",
       "75%            63292.500000    3.000000  \n",
       "max            75403.000000    3.000000  \n",
       "\n",
       "[8 rows x 56 columns]"
      ]
     },
     "execution_count": 9,
     "metadata": {},
     "output_type": "execute_result"
    }
   ],
   "source": [
    "dataset.describe()"
   ]
  },
  {
   "cell_type": "code",
   "execution_count": 10,
   "id": "93794be4",
   "metadata": {},
   "outputs": [
    {
     "name": "stdout",
     "output_type": "stream",
     "text": [
      "2448.6976744186045\n"
     ]
    }
   ],
   "source": [
    "# ver a média da variável roubo_veiculo\n",
    "rouboVeiculo = dataset.roubo_veiculo.mean()\n",
    "print(rouboVeiculo)"
   ]
  },
  {
   "cell_type": "code",
   "execution_count": 11,
   "id": "8f58247a",
   "metadata": {},
   "outputs": [
    {
     "name": "stdout",
     "output_type": "stream",
     "text": [
      "1674.671511627907\n"
     ]
    }
   ],
   "source": [
    "# ver a média da variável furto_veiculos\n",
    "furtoVeiculo = dataset.furto_veiculos.mean()\n",
    "print(furtoVeiculo)"
   ]
  },
  {
   "cell_type": "code",
   "execution_count": 12,
   "id": "f97d1781",
   "metadata": {},
   "outputs": [
    {
     "name": "stdout",
     "output_type": "stream",
     "text": [
      "1772.2383720930231\n"
     ]
    }
   ],
   "source": [
    "# ver a média da variável recuperacao_veiculos\n",
    "recuperadoVeiculo = dataset.recuperacao_veiculos.mean()\n",
    "print(recuperadoVeiculo)"
   ]
  },
  {
   "cell_type": "code",
   "execution_count": 13,
   "id": "b52062dd",
   "metadata": {},
   "outputs": [
    {
     "name": "stdout",
     "output_type": "stream",
     "text": [
      "0.42980346705075084\n"
     ]
    }
   ],
   "source": [
    "# ver a porcentagem de carros recuperados em relação aos carros roubados + carros furtados\n",
    "print (recuperadoVeiculo / (rouboVeiculo + furtoVeiculo))"
   ]
  },
  {
   "cell_type": "code",
   "execution_count": 14,
   "id": "ad04d3a3",
   "metadata": {},
   "outputs": [
    {
     "name": "stdout",
     "output_type": "stream",
     "text": [
      "Max: 831 \n",
      "Min: 272\n"
     ]
    }
   ],
   "source": [
    "# valores max e min de hom_doloso\n",
    "homMax = max(dataset.hom_doloso)\n",
    "homMin = min(dataset.hom_doloso)\n",
    "print(f'Max: {homMax} \\nMin: {homMin}' )"
   ]
  },
  {
   "cell_type": "code",
   "execution_count": 15,
   "id": "88007795",
   "metadata": {},
   "outputs": [
    {
     "name": "stdout",
     "output_type": "stream",
     "text": [
      "Maior ano com Homicidio Doloso: 48    1995\n",
      "Name: vano, dtype: int64 \n",
      "Menor ano com Homicidio doloso: 293    2015\n",
      "Name: vano, dtype: int64\n"
     ]
    }
   ],
   "source": [
    "#Verificando os anos com os valores Max e Min\n",
    "anoMaxHom = dataset.query('hom_doloso == 831')\n",
    "anoMinHom = dataset.query('hom_doloso == 272')\n",
    "\n",
    "print(f'Maior ano com Homicidio Doloso: {anoMaxHom[\"vano\"]} \\nMenor ano com Homicidio doloso: {anoMinHom[\"vano\"]}')"
   ]
  },
  {
   "cell_type": "code",
   "execution_count": 23,
   "id": "c547970a",
   "metadata": {},
   "outputs": [
    {
     "name": "stdout",
     "output_type": "stream",
     "text": [
      "max: 1628 \n",
      "min: 281\n"
     ]
    }
   ],
   "source": [
    "rouboColetivoMax = max(dataset.roubo_em_coletivo)\n",
    "rouboColetivoMin = min(dataset.roubo_em_coletivo)\n",
    "print(f'max: {rouboColetivoMax} \\nmin: {rouboColetivoMin}')\n"
   ]
  },
  {
   "cell_type": "code",
   "execution_count": 30,
   "id": "b91ecf43",
   "metadata": {},
   "outputs": [
    {
     "name": "stdout",
     "output_type": "stream",
     "text": [
      "Maior ano com roubo em coletivo: 319    2017\n",
      "Name: vano, dtype: int64 \n",
      "Menor ano com roubo em coletivo: 8    1991\n",
      "Name: vano, dtype: int64\n"
     ]
    }
   ],
   "source": [
    "anoMaxRouboCol = dataset.query('roubo_em_coletivo == 1628')\n",
    "anoMinRouboCol = dataset.query('roubo_em_coletivo == 281')\n",
    "\n",
    "print(f'Maior ano com roubo em coletivo: {anoMaxRouboCol[\"vano\"]} \\nMenor ano com roubo em coletivo: {anoMinRouboCol[\"vano\"]}')"
   ]
  },
  {
   "cell_type": "code",
   "execution_count": 37,
   "id": "c6089dc2",
   "metadata": {},
   "outputs": [
    {
     "name": "stdout",
     "output_type": "stream",
     "text": [
      "max: 217 \n",
      "min: 0\n"
     ]
    }
   ],
   "source": [
    "encontroCadaverMax = max(dataset.encontro_cadaver)\n",
    "encontroCadaverMin = min(dataset.encontro_cadaver)\n",
    "\n",
    "print(f'max: {encontroCadaverMax} \\nmin: {encontroCadaverMin}')"
   ]
  },
  {
   "cell_type": "code",
   "execution_count": 39,
   "id": "8ecb4a25",
   "metadata": {},
   "outputs": [
    {
     "name": "stdout",
     "output_type": "stream",
     "text": [
      "Maior ano com roubo em coletivo: 0    1991\n",
      "Name: vano, dtype: int64 \n",
      "Menor ano com roubo em coletivo: 78    1997\n",
      "79    1997\n",
      "80    1997\n",
      "81    1997\n",
      "82    1997\n",
      "83    1997\n",
      "Name: vano, dtype: int64\n"
     ]
    }
   ],
   "source": [
    "anoMaxCadaverCol = dataset.query('encontro_cadaver == 217')\n",
    "anoMinCadaverCol = dataset.query('encontro_cadaver == 0')\n",
    "\n",
    "print(f'Maior ano com roubo em coletivo: {anoMaxCadaverCol[\"vano\"]} \\nMenor ano com roubo em coletivo: {anoMinCadaverCol[\"vano\"]}')"
   ]
  },
  {
   "cell_type": "markdown",
   "id": "5d38b0cf",
   "metadata": {},
   "source": [
    "# VISUALIZAÇÃO DE DADOS"
   ]
  },
  {
   "cell_type": "code",
   "execution_count": 17,
   "id": "a87b8daf",
   "metadata": {},
   "outputs": [
    {
     "data": {
      "image/png": "[encoded data removed]",
      "text/plain": [
       "<Figure size 432x288 with 1 Axes>"
      ]
     },
     "metadata": {
      "needs_background": "light"
     },
     "output_type": "display_data"
    }
   ],
   "source": [
    "dataset['hom_doloso'].hist();"
   ]
  },
  {
   "cell_type": "code",
   "execution_count": 18,
   "id": "357109e2",
   "metadata": {},
   "outputs": [
    {
     "data": {
      "image/png": "[encoded data removed]",
      "text/plain": [
       "<Figure size 432x288 with 1 Axes>"
      ]
     },
     "metadata": {
      "needs_background": "light"
     },
     "output_type": "display_data"
    }
   ],
   "source": [
    "dataset['roubo_em_coletivo'].plot();"
   ]
  },
  {
   "cell_type": "code",
   "execution_count": 41,
   "id": "ab876874",
   "metadata": {},
   "outputs": [
    {
     "data": {
      "image/png": "[encoded data removed]",
      "text/plain": [
       "<Figure size 432x288 with 1 Axes>"
      ]
     },
     "metadata": {
      "needs_background": "light"
     },
     "output_type": "display_data"
    }
   ],
   "source": [
    "dataset['hom_doloso'].plot();"
   ]
  },
  {
   "cell_type": "code",
   "execution_count": 40,
   "id": "0e88d13f",
   "metadata": {},
   "outputs": [
    {
     "data": {
      "image/png": "[encoded data removed]",
      "text/plain": [
       "<Figure size 432x288 with 1 Axes>"
      ]
     },
     "metadata": {
      "needs_background": "light"
     },
     "output_type": "display_data"
    }
   ],
   "source": [
    "dataset['encontro_cadaver'].plot();"
   ]
  },
  {
   "cell_type": "code",
   "execution_count": 44,
   "id": "2fa948f3",
   "metadata": {},
   "outputs": [
    {
     "data": {
      "image/png": "[encoded data removed]",
      "text/plain": [
       "<Figure size 432x288 with 1 Axes>"
      ]
     },
     "metadata": {
      "needs_background": "light"
     },
     "output_type": "display_data"
    }
   ],
   "source": [
    "dataset['encontro_ossada'].plot();"
   ]
  },
  {
   "cell_type": "code",
   "execution_count": 45,
   "id": "d684a7ce",
   "metadata": {},
   "outputs": [
    {
     "data": {
      "image/png": "[encoded data removed]",
      "text/plain": [
       "<Figure size 432x288 with 1 Axes>"
      ]
     },
     "metadata": {
      "needs_background": "light"
     },
     "output_type": "display_data"
    }
   ],
   "source": [
    "dataset['pessoas_desaparecidas'].plot();"
   ]
  },
  {
   "cell_type": "markdown",
   "id": "a6534474",
   "metadata": {},
   "source": [
    "# CONCLUSÃO"
   ]
  },
  {
   "cell_type": "markdown",
   "id": "dedd4227",
   "metadata": {},
   "source": [
    "Em análise ao dataset observar-se que, o número de homicídios caíram com o passar do tempo, entretanto, nota-se que o encontro de cadáver decaiu em conjunto, o que, consequentemente pode influenciar em tais dados, os recursos disponíveis para a polícia são poucos, o que prejudica muito as investigações, além, claro, do descaso dos governadores e seu histórico de corrupção na Rio de Janeiro.\n",
    "\n",
    "Em observância aos dados, o maior número de homicídios dolosos ocorreu no período de 1995, totalizando o total de 831, após isso os números foram caindo, sendo 2015 com o menor números de ocorrências, total de 272.\n",
    "\n",
    "Indo um pouco mais adiante é possível notar no gráfico que o número de pessoas desaparecidas decaiu, após um longo tempo de uma linha crescente.\n",
    "\n",
    "Por fim, o número de roubo em coletivos continua a subir, tendo um pico de 1628 em 2017 ou seja, ficando a cidade mais perigosa para cidadãos que utilizam o transporte público e turistas que se preciso utilizam o mesmo modal, que antigamente - 1991, ano em que se encontra o menor número de roubo em coletivos, totalizando 281.\n",
    "\n",
    "Com face no exposto, é possível perceber que o número de homicídios caiu com o passar do tempo, o que afetou diretamente o número de ossadas e número de pessoas desaparecidas, entretanto, não se pode olvidar o aumento alarmante de roubo em coletivo torna-se uma cidade bastante perigosa, conforme o Sindicato das Empresas de Ônibus - em reportagem a CNN, o número de pessoas que utilizam o este tipo de modal equivale, após pandemia 1,8 milhão, antes da pandemia eram 3,5 milhões de pessoas, tendo o Rio de Janeiro 6,748 milhões de pessoas.\n",
    "\n",
    "\n",
    "\n"
   ]
  },
  {
   "cell_type": "code",
   "execution_count": null,
   "id": "be0cf0cc",
   "metadata": {},
   "outputs": [],
   "source": []
  }
 ],
 "metadata": {
  "kernelspec": {
   "display_name": "Python 3",
   "language": "python",
   "name": "python3"
  },
  "language_info": {
   "codemirror_mode": {
    "name": "ipython",
    "version": 3
   },
   "file_extension": ".py",
   "mimetype": "text/x-python",
   "name": "python",
   "nbconvert_exporter": "python",
   "pygments_lexer": "ipython3",
   "version": "3.8.8"
  }
 },
 "nbformat": 4,
 "nbformat_minor": 5
}
